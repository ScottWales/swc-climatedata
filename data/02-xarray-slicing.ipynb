{
 "cells": [
  {
   "cell_type": "code",
   "execution_count": 2,
   "metadata": {
    "collapsed": false
   },
   "outputs": [],
   "source": [
    "import xarray\n",
    "url = 'http://dapds00.nci.org.au/thredds/dodsC/ua6/authoritative/CMIP5/CSIRO-BOM/ACCESS1-0/amip/day/atmos/day/r1i1p1/latest/ua/ua_day_ACCESS1-0_amip_r1i1p1_19790101-19831231.nc'\n",
    "data = xarray.open_dataset(url)\n",
    "ua = data['ua']"
   ]
  },
  {
   "cell_type": "markdown",
   "metadata": {},
   "source": [
    "Array indices work like Python or Numpy arrays"
   ]
  },
  {
   "cell_type": "code",
   "execution_count": 3,
   "metadata": {
    "collapsed": false
   },
   "outputs": [
    {
     "data": {
      "text/plain": [
       "<xarray.DataArray 'ua' (lat: 144, lon: 192)>\n",
       "array([[         nan,          nan,          nan, ...,          nan,\n",
       "                 nan,          nan],\n",
       "       [         nan,          nan,          nan, ...,          nan,\n",
       "                 nan,          nan],\n",
       "       [         nan,          nan,          nan, ...,          nan,\n",
       "                 nan,          nan],\n",
       "       ..., \n",
       "       [-13.3355341 , -13.77951622, -14.2174511 , ..., -11.98992062,\n",
       "        -12.43802834, -12.88754463],\n",
       "       [-12.88020611, -13.16633129, -13.44441891, ..., -11.98670959,\n",
       "        -12.28912067, -12.58736801],\n",
       "       [-12.23143196, -12.40016842, -12.55766201, ..., -11.66174984,\n",
       "        -11.86182308, -12.05184937]])\n",
       "Coordinates:\n",
       "    time     datetime64[ns] ...\n",
       "    plev     float64 ...\n",
       "  * lat      (lat) float64 -89.38 -88.12 -86.88 -85.62 -84.38 -83.12 -81.88 ...\n",
       "  * lon      (lon) float64 0.9375 2.812 4.688 6.562 8.438 10.31 12.19 14.06 ...\n",
       "Attributes:\n",
       "    standard_name: eastward_wind\n",
       "    long_name: Eastward Wind\n",
       "    units: m s-1\n",
       "    cell_methods: time: mean\n",
       "    history: 2012-05-23T13:18:14Z altered by CMOR: replaced missing value flag (-1.07374e+09) with standard missing value (1e+20). 2012-05-23T13:18:15Z altered by CMOR: Inverted axis: plev.\n",
       "    associated_files: baseURL: http://cmip-pcmdi.llnl.gov/CMIP5/dataLocation gridspecFile: gridspec_atmos_fx_ACCESS1-0_amip_r0i0p0.nc"
      ]
     },
     "execution_count": 3,
     "metadata": {},
     "output_type": "execute_result"
    }
   ],
   "source": [
    "ua[1,1,:,:]"
   ]
  },
  {
   "cell_type": "markdown",
   "metadata": {},
   "source": [
    "\n",
    "\n",
    "Index select allows you to use coordinate names, clearer when there are more dimensions"
   ]
  },
  {
   "cell_type": "code",
   "execution_count": 5,
   "metadata": {
    "collapsed": false
   },
   "outputs": [
    {
     "data": {
      "text/plain": [
       "<xarray.DataArray 'ua' (plev: 4, lat: 144, lon: 192)>\n",
       "[110592 values with dtype=float64]\n",
       "Coordinates:\n",
       "    time     datetime64[ns] ...\n",
       "  * plev     (plev) float64 8.5e+04 7e+04 5e+04 2.5e+04\n",
       "  * lat      (lat) float64 -89.38 -88.12 -86.88 -85.62 -84.38 -83.12 -81.88 ...\n",
       "  * lon      (lon) float64 0.9375 2.812 4.688 6.562 8.438 10.31 12.19 14.06 ...\n",
       "Attributes:\n",
       "    standard_name: eastward_wind\n",
       "    long_name: Eastward Wind\n",
       "    units: m s-1\n",
       "    cell_methods: time: mean\n",
       "    history: 2012-05-23T13:18:14Z altered by CMOR: replaced missing value flag (-1.07374e+09) with standard missing value (1e+20). 2012-05-23T13:18:15Z altered by CMOR: Inverted axis: plev.\n",
       "    associated_files: baseURL: http://cmip-pcmdi.llnl.gov/CMIP5/dataLocation gridspecFile: gridspec_atmos_fx_ACCESS1-0_amip_r0i0p0.nc"
      ]
     },
     "execution_count": 5,
     "metadata": {},
     "output_type": "execute_result"
    }
   ],
   "source": [
    "ua.isel(time=5, plev=slice(1,5))"
   ]
  },
  {
   "cell_type": "markdown",
   "metadata": {},
   "source": [
    "\n",
    "\n",
    "Value select let's you slice based on the co-ordinate's value"
   ]
  },
  {
   "cell_type": "code",
   "execution_count": 10,
   "metadata": {
    "collapsed": false
   },
   "outputs": [
    {
     "data": {
      "text/plain": [
       "<xarray.DataArray 'ua' (time: 1826, plev: 8, lat: 16, lon: 192)>\n",
       "[44875776 values with dtype=float64]\n",
       "Coordinates:\n",
       "  * time     (time) datetime64[ns] 1979-01-01T12:00:00 1979-01-02T12:00:00 ...\n",
       "  * plev     (plev) float64 1e+05 8.5e+04 7e+04 5e+04 2.5e+04 1e+04 5e+03 1e+03\n",
       "  * lat      (lat) float64 -9.375 -8.125 -6.875 -5.625 -4.375 -3.125 -1.875 ...\n",
       "  * lon      (lon) float64 0.9375 2.812 4.688 6.562 8.438 10.31 12.19 14.06 ...\n",
       "Attributes:\n",
       "    standard_name: eastward_wind\n",
       "    long_name: Eastward Wind\n",
       "    units: m s-1\n",
       "    cell_methods: time: mean\n",
       "    history: 2012-05-23T13:18:14Z altered by CMOR: replaced missing value flag (-1.07374e+09) with standard missing value (1e+20). 2012-05-23T13:18:15Z altered by CMOR: Inverted axis: plev.\n",
       "    associated_files: baseURL: http://cmip-pcmdi.llnl.gov/CMIP5/dataLocation gridspecFile: gridspec_atmos_fx_ACCESS1-0_amip_r0i0p0.nc"
      ]
     },
     "execution_count": 10,
     "metadata": {},
     "output_type": "execute_result"
    }
   ],
   "source": [
    "ua.sel(lat=slice(-10, 10), lon=slice(0,360))"
   ]
  },
  {
   "cell_type": "markdown",
   "metadata": {},
   "source": [
    "Methods can be combined"
   ]
  },
  {
   "cell_type": "code",
   "execution_count": 13,
   "metadata": {
    "collapsed": false
   },
   "outputs": [
    {
     "data": {
      "text/plain": [
       "<xarray.DataArray 'ua' (lat: 16, lon: 192)>\n",
       "array([[-0.05207055,  0.43285596,  1.1578908 , ..., -2.4282558 ,\n",
       "        -1.60375333, -0.67299384],\n",
       "       [-0.27732241,  0.39665782,  1.10125482, ..., -2.48294568,\n",
       "        -1.70359683, -0.97290492],\n",
       "       [-0.43866971,  0.34721199,  0.94279772, ..., -3.1319294 ,\n",
       "        -2.29267311, -1.36595845],\n",
       "       ..., \n",
       "       [        nan,         nan,         nan, ...,         nan,\n",
       "                nan,         nan],\n",
       "       [        nan,         nan,         nan, ...,         nan,\n",
       "                nan,         nan],\n",
       "       [        nan,         nan,         nan, ...,         nan,\n",
       "                nan,         nan]])\n",
       "Coordinates:\n",
       "    time     datetime64[ns] ...\n",
       "    plev     float64 ...\n",
       "  * lat      (lat) float64 -9.375 -8.125 -6.875 -5.625 -4.375 -3.125 -1.875 ...\n",
       "  * lon      (lon) float64 0.9375 2.812 4.688 6.562 8.438 10.31 12.19 14.06 ...\n",
       "Attributes:\n",
       "    standard_name: eastward_wind\n",
       "    long_name: Eastward Wind\n",
       "    units: m s-1\n",
       "    cell_methods: time: mean\n",
       "    history: 2012-05-23T13:18:14Z altered by CMOR: replaced missing value flag (-1.07374e+09) with standard missing value (1e+20). 2012-05-23T13:18:15Z altered by CMOR: Inverted axis: plev.\n",
       "    associated_files: baseURL: http://cmip-pcmdi.llnl.gov/CMIP5/dataLocation gridspecFile: gridspec_atmos_fx_ACCESS1-0_amip_r0i0p0.nc"
      ]
     },
     "execution_count": 13,
     "metadata": {},
     "output_type": "execute_result"
    }
   ],
   "source": [
    "equator = ua.sel(lat=slice(-10, 10), lon=slice(0,360))\n",
    "equator0 = equator.isel(time=0, plev=0)\n",
    "equator0"
   ]
  },
  {
   "cell_type": "markdown",
   "metadata": {},
   "source": [
    "You can also perform nearest-neighbour interopolation"
   ]
  },
  {
   "cell_type": "code",
   "execution_count": 23,
   "metadata": {
    "collapsed": false
   },
   "outputs": [
    {
     "data": {
      "text/plain": [
       "<matplotlib.collections.QuadMesh at 0x7f1aabb87a58>"
      ]
     },
     "execution_count": 23,
     "metadata": {},
     "output_type": "execute_result"
    },
    {
     "data": {
      "image/png": "[encoded data removed]",
      "text/plain": [
       "<matplotlib.figure.Figure at 0x7f1aabc0d470>"
      ]
     },
     "metadata": {},
     "output_type": "display_data"
    }
   ],
   "source": [
    "%matplotlib inline\n",
    "ua.sel(time=slice('1980-01-01','1981-01-01')).sel(lat=-27.4698, lon=153.0251, method='nearest').plot(x='time',y='plev')"
   ]
  },
  {
   "cell_type": "code",
   "execution_count": null,
   "metadata": {
    "collapsed": true
   },
   "outputs": [],
   "source": []
  }
 ],
 "metadata": {
  "anaconda-cloud": {},
  "kernelspec": {
   "display_name": "Python [conda env:swc-climatedata]",
   "language": "python",
   "name": "conda-env-swc-climatedata-py"
  },
  "language_info": {
   "codemirror_mode": {
    "name": "ipython",
    "version": 3
   },
   "file_extension": ".py",
   "mimetype": "text/x-python",
   "name": "python",
   "nbconvert_exporter": "python",
   "pygments_lexer": "ipython3",
   "version": "3.5.2"
  }
 },
 "nbformat": 4,
 "nbformat_minor": 1
}
