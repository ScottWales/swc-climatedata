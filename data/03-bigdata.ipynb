{
 "cells": [
  {
   "cell_type": "code",
   "execution_count": 1,
   "metadata": {
    "collapsed": false
   },
   "outputs": [],
   "source": [
    "import xarray\n",
    "data = xarray.open_dataset('/g/data/gh5/access_cm_025-picontrol/output000/ocean/ocean.nc',decode_times=False)"
   ]
  },
  {
   "cell_type": "code",
   "execution_count": 2,
   "metadata": {
    "collapsed": false
   },
   "outputs": [
    {
     "data": {
      "text/plain": [
       "<xarray.Dataset>\n",
       "Dimensions:                (nv: 2, st_edges_ocean: 51, st_ocean: 50, sw_edges_ocean: 51, sw_ocean: 50, time: 6, xt_ocean: 1440, xu_ocean: 1440, yt_ocean: 1080, yu_ocean: 1080)\n",
       "Coordinates:\n",
       "  * xt_ocean               (xt_ocean) float64 -279.9 -279.6 -279.4 -279.1 ...\n",
       "  * yt_ocean               (yt_ocean) float64 -81.08 -80.97 -80.87 -80.76 ...\n",
       "  * time                   (time) float64 15.5 45.0 74.5 105.0 135.5 166.0\n",
       "  * nv                     (nv) float64 1.0 2.0\n",
       "  * xu_ocean               (xu_ocean) float64 -279.8 -279.5 -279.2 -279.0 ...\n",
       "  * yu_ocean               (yu_ocean) float64 -81.02 -80.92 -80.81 -80.71 ...\n",
       "  * st_ocean               (st_ocean) float64 5.034 15.1 25.22 35.36 45.58 ...\n",
       "  * st_edges_ocean         (st_edges_ocean) float64 0.0 10.07 20.16 30.29 ...\n",
       "  * sw_ocean               (sw_ocean) float64 10.07 20.16 30.29 40.47 50.71 ...\n",
       "  * sw_edges_ocean         (sw_edges_ocean) float64 5.034 15.1 25.22 35.36 ...\n",
       "    geolon_t               (yt_ocean, xt_ocean) float64 -279.9 -279.6 -279.4 ...\n",
       "    geolat_t               (yt_ocean, xt_ocean) float64 -81.08 -81.08 -81.08 ...\n",
       "    geolon_c               (yu_ocean, xu_ocean) float64 -279.8 -279.5 -279.2 ...\n",
       "    geolat_c               (yu_ocean, xu_ocean) float64 -81.02 -81.02 -81.02 ...\n",
       "Data variables:\n",
       "    temp                   (time, st_ocean, yt_ocean, xt_ocean) float64 nan ...\n",
       "    salt                   (time, st_ocean, yt_ocean, xt_ocean) float64 nan ...\n",
       "    age_global             (time, st_ocean, yt_ocean, xt_ocean) float64 nan ...\n",
       "    u                      (time, st_ocean, yu_ocean, xu_ocean) float64 nan ...\n",
       "    v                      (time, st_ocean, yu_ocean, xu_ocean) float64 nan ...\n",
       "    eta_t                  (time, yt_ocean, xt_ocean) float64 nan nan nan ...\n",
       "    eta_u                  (time, yu_ocean, xu_ocean) float64 nan nan nan ...\n",
       "    temp_int_rhodz         (time, yt_ocean, xt_ocean) float64 nan nan nan ...\n",
       "    salt_int_rhodz         (time, yt_ocean, xt_ocean) float64 nan nan nan ...\n",
       "    sea_level              (time, yt_ocean, xt_ocean) float64 nan nan nan ...\n",
       "    sea_levelsq            (time, yt_ocean, xt_ocean) float64 nan nan nan ...\n",
       "    patm_t                 (time, yt_ocean, xt_ocean) float64 nan nan nan ...\n",
       "    patm_u                 (time, yu_ocean, xu_ocean) float64 nan nan nan ...\n",
       "    wt                     (time, sw_ocean, yt_ocean, xt_ocean) float64 nan ...\n",
       "    pot_rho_0              (time, st_ocean, yt_ocean, xt_ocean) float64 nan ...\n",
       "    dzt                    (time, st_ocean, yt_ocean, xt_ocean) float64 nan ...\n",
       "    hblt                   (time, yt_ocean, xt_ocean) float64 nan nan nan ...\n",
       "    mld                    (time, yt_ocean, xt_ocean) float64 nan nan nan ...\n",
       "    mld_dtheta             (time, yt_ocean, xt_ocean) float64 nan nan nan ...\n",
       "    pme_river              (time, yt_ocean, xt_ocean) float64 nan nan nan ...\n",
       "    river                  (time, yt_ocean, xt_ocean) float64 nan nan nan ...\n",
       "    ice_calving            (time, yt_ocean, xt_ocean) float64 nan nan nan ...\n",
       "    sfc_hflux_coupler      (time, yt_ocean, xt_ocean) float64 nan nan nan ...\n",
       "    net_sfc_heating        (time, yt_ocean, xt_ocean) float64 nan nan nan ...\n",
       "    tau_x                  (time, yu_ocean, xu_ocean) float64 nan nan nan ...\n",
       "    tau_y                  (time, yu_ocean, xu_ocean) float64 nan nan nan ...\n",
       "    frazil_2d              (time, yt_ocean, xt_ocean) float64 nan nan nan ...\n",
       "    sfc_salt_flux_restore  (time, yt_ocean, xt_ocean) float64 nan nan nan ...\n",
       "    tx_trans               (time, st_ocean, yt_ocean, xu_ocean) float64 nan ...\n",
       "    ty_trans               (time, st_ocean, yu_ocean, xt_ocean) float64 nan ...\n",
       "    salt_xflux_adv_int_z   (time, yt_ocean, xu_ocean) float64 nan nan nan ...\n",
       "    salt_yflux_adv_int_z   (time, yu_ocean, xt_ocean) float64 nan nan nan ...\n",
       "    temp_xflux_adv_int_z   (time, yt_ocean, xu_ocean) float64 nan nan nan ...\n",
       "    temp_yflux_adv_int_z   (time, yu_ocean, xt_ocean) float64 nan nan nan ...\n",
       "    tx_trans_int_z         (time, yt_ocean, xu_ocean) float64 nan nan nan ...\n",
       "    ty_trans_int_z         (time, yu_ocean, xt_ocean) float64 nan nan nan ...\n",
       "    psiu                   (time, yt_ocean, xu_ocean) float64 nan nan nan ...\n",
       "    psiv                   (time, yu_ocean, xt_ocean) float64 nan nan nan ...\n",
       "    diff_cbt_t             (time, st_ocean, yt_ocean, xt_ocean) float64 nan ...\n",
       "    average_T1             (time) float64 0.0 31.0 59.0 90.0 120.0 151.0\n",
       "    average_T2             (time) float64 31.0 59.0 90.0 120.0 151.0 181.0\n",
       "    average_DT             (time) float64 31.0 28.0 31.0 30.0 31.0 30.0\n",
       "    time_bounds            (time, nv) float64 0.0 31.0 31.0 59.0 59.0 90.0 ...\n",
       "Attributes:\n",
       "    filename: /short/v45/nah599/access/archive/cm_1440x1080-1/output000/ocean/ocean.nc\n",
       "    title: MOM4p1_CORE_IAF_v20120531_0849_noRestore_runoff_fix\n",
       "    grid_type: mosaic\n",
       "    grid_tile: 1"
      ]
     },
     "execution_count": 2,
     "metadata": {},
     "output_type": "execute_result"
    }
   ],
   "source": [
    "data"
   ]
  },
  {
   "cell_type": "code",
   "execution_count": 3,
   "metadata": {
    "collapsed": false
   },
   "outputs": [
    {
     "data": {
      "text/plain": [
       "<xarray.DataArray 'u' (time: 6, st_ocean: 50, yu_ocean: 1080, xu_ocean: 1440)>\n",
       "[466560000 values with dtype=float64]\n",
       "Coordinates:\n",
       "  * time      (time) float64 15.5 45.0 74.5 105.0 135.5 166.0\n",
       "  * xu_ocean  (xu_ocean) float64 -279.8 -279.5 -279.2 -279.0 -278.8 -278.5 ...\n",
       "  * yu_ocean  (yu_ocean) float64 -81.02 -80.92 -80.81 -80.71 -80.6 -80.5 ...\n",
       "  * st_ocean  (st_ocean) float64 5.034 15.1 25.22 35.36 45.58 55.85 66.26 ...\n",
       "    geolon_c  (yu_ocean, xu_ocean) float64 -279.8 -279.5 -279.2 -279.0 ...\n",
       "    geolat_c  (yu_ocean, xu_ocean) float64 -81.02 -81.02 -81.02 -81.02 ...\n",
       "Attributes:\n",
       "    long_name: i-current\n",
       "    units: m/sec\n",
       "    valid_range: [-10.  10.]\n",
       "    cell_methods: time: mean\n",
       "    time_avg_info: average_T1,average_T2,average_DT\n",
       "    standard_name: sea_water_x_velocity"
      ]
     },
     "execution_count": 3,
     "metadata": {},
     "output_type": "execute_result"
    }
   ],
   "source": [
    "# U velocity\n",
    "\n",
    "data['u']"
   ]
  },
  {
   "cell_type": "code",
   "execution_count": 4,
   "metadata": {
    "collapsed": false
   },
   "outputs": [
    {
     "data": {
      "text/plain": [
       "3.4761428833007812"
      ]
     },
     "execution_count": 4,
     "metadata": {},
     "output_type": "execute_result"
    }
   ],
   "source": [
    "# 64 bit, so multiply by 8 for bytes then divide by 1024 ** 3 for gigabytes\n",
    "\n",
    "data['u'].size * 8 / 1024.0**3"
   ]
  },
  {
   "cell_type": "code",
   "execution_count": 8,
   "metadata": {
    "collapsed": false
   },
   "outputs": [
    {
     "name": "stdout",
     "output_type": "stream",
     "text": [
      "CPU times: user 3.66 s, sys: 10.3 s, total: 13.9 s\n",
      "Wall time: 14 s\n"
     ]
    },
    {
     "data": {
      "text/plain": [
       "<xarray.DataArray 'u' ()>\n",
       "array(0.008380663054826449)"
      ]
     },
     "execution_count": 8,
     "metadata": {},
     "output_type": "execute_result"
    }
   ],
   "source": [
    "%%time\n",
    "# Operating on a single array is slow, but works\n",
    "\n",
    "data['u'].mean()"
   ]
  },
  {
   "cell_type": "code",
   "execution_count": null,
   "metadata": {
    "collapsed": false
   },
   "outputs": [],
   "source": [
    "# But more complex operations fill up memory quickly\n",
    "\n",
    "magnitude = (data['u']**2 + data['v']**2)**0.5"
   ]
  },
  {
   "cell_type": "code",
   "execution_count": null,
   "metadata": {
    "collapsed": false
   },
   "outputs": [],
   "source": [
    "# Let's chunk the data\n",
    "\n",
    "chunked = data.chunk({'time':1, 'st_ocean':10, 'xt_ocean': 200, 'yt_ocean': 200})\n",
    "chunked['u']"
   ]
  },
  {
   "cell_type": "code",
   "execution_count": 10,
   "metadata": {
    "collapsed": false
   },
   "outputs": [
    {
     "ename": "NameError",
     "evalue": "name 'chunked' is not defined",
     "output_type": "error",
     "traceback": [
      "\u001b[0;31m---------------------------------------------------------------------------\u001b[0m",
      "\u001b[0;31mNameError\u001b[0m                                 Traceback (most recent call last)",
      "\u001b[0;32m<ipython-input-10-596947b3d01d>\u001b[0m in \u001b[0;36m<module>\u001b[0;34m()\u001b[0m\n\u001b[0;32m----> 1\u001b[0;31m \u001b[0mget_ipython\u001b[0m\u001b[0;34m(\u001b[0m\u001b[0;34m)\u001b[0m\u001b[0;34m.\u001b[0m\u001b[0mrun_cell_magic\u001b[0m\u001b[0;34m(\u001b[0m\u001b[0;34m'time'\u001b[0m\u001b[0;34m,\u001b[0m \u001b[0;34m''\u001b[0m\u001b[0;34m,\u001b[0m \u001b[0;34m\"# Now how long does it take?\\n\\nmagnitude = (chunked['u']**2 + chunked['v']**2)**0.5\\nmagnitude\"\u001b[0m\u001b[0;34m)\u001b[0m\u001b[0;34m\u001b[0m\u001b[0m\n\u001b[0m",
      "\u001b[0;32m/short/w35/saw562/conda/envs/swc-climatedata/lib/python3.5/site-packages/IPython/core/interactiveshell.py\u001b[0m in \u001b[0;36mrun_cell_magic\u001b[0;34m(self, magic_name, line, cell)\u001b[0m\n\u001b[1;32m   2113\u001b[0m             \u001b[0mmagic_arg_s\u001b[0m \u001b[0;34m=\u001b[0m \u001b[0mself\u001b[0m\u001b[0;34m.\u001b[0m\u001b[0mvar_expand\u001b[0m\u001b[0;34m(\u001b[0m\u001b[0mline\u001b[0m\u001b[0;34m,\u001b[0m \u001b[0mstack_depth\u001b[0m\u001b[0;34m)\u001b[0m\u001b[0;34m\u001b[0m\u001b[0m\n\u001b[1;32m   2114\u001b[0m             \u001b[0;32mwith\u001b[0m \u001b[0mself\u001b[0m\u001b[0;34m.\u001b[0m\u001b[0mbuiltin_trap\u001b[0m\u001b[0;34m:\u001b[0m\u001b[0;34m\u001b[0m\u001b[0m\n\u001b[0;32m-> 2115\u001b[0;31m                 \u001b[0mresult\u001b[0m \u001b[0;34m=\u001b[0m \u001b[0mfn\u001b[0m\u001b[0;34m(\u001b[0m\u001b[0mmagic_arg_s\u001b[0m\u001b[0;34m,\u001b[0m \u001b[0mcell\u001b[0m\u001b[0;34m)\u001b[0m\u001b[0;34m\u001b[0m\u001b[0m\n\u001b[0m\u001b[1;32m   2116\u001b[0m             \u001b[0;32mreturn\u001b[0m \u001b[0mresult\u001b[0m\u001b[0;34m\u001b[0m\u001b[0m\n\u001b[1;32m   2117\u001b[0m \u001b[0;34m\u001b[0m\u001b[0m\n",
      "\u001b[0;32m<decorator-gen-59>\u001b[0m in \u001b[0;36mtime\u001b[0;34m(self, line, cell, local_ns)\u001b[0m\n",
      "\u001b[0;32m/short/w35/saw562/conda/envs/swc-climatedata/lib/python3.5/site-packages/IPython/core/magic.py\u001b[0m in \u001b[0;36m<lambda>\u001b[0;34m(f, *a, **k)\u001b[0m\n\u001b[1;32m    186\u001b[0m     \u001b[0;31m# but it's overkill for just that one bit of state.\u001b[0m\u001b[0;34m\u001b[0m\u001b[0;34m\u001b[0m\u001b[0m\n\u001b[1;32m    187\u001b[0m     \u001b[0;32mdef\u001b[0m \u001b[0mmagic_deco\u001b[0m\u001b[0;34m(\u001b[0m\u001b[0marg\u001b[0m\u001b[0;34m)\u001b[0m\u001b[0;34m:\u001b[0m\u001b[0;34m\u001b[0m\u001b[0m\n\u001b[0;32m--> 188\u001b[0;31m         \u001b[0mcall\u001b[0m \u001b[0;34m=\u001b[0m \u001b[0;32mlambda\u001b[0m \u001b[0mf\u001b[0m\u001b[0;34m,\u001b[0m \u001b[0;34m*\u001b[0m\u001b[0ma\u001b[0m\u001b[0;34m,\u001b[0m \u001b[0;34m**\u001b[0m\u001b[0mk\u001b[0m\u001b[0;34m:\u001b[0m \u001b[0mf\u001b[0m\u001b[0;34m(\u001b[0m\u001b[0;34m*\u001b[0m\u001b[0ma\u001b[0m\u001b[0;34m,\u001b[0m \u001b[0;34m**\u001b[0m\u001b[0mk\u001b[0m\u001b[0;34m)\u001b[0m\u001b[0;34m\u001b[0m\u001b[0m\n\u001b[0m\u001b[1;32m    189\u001b[0m \u001b[0;34m\u001b[0m\u001b[0m\n\u001b[1;32m    190\u001b[0m         \u001b[0;32mif\u001b[0m \u001b[0mcallable\u001b[0m\u001b[0;34m(\u001b[0m\u001b[0marg\u001b[0m\u001b[0;34m)\u001b[0m\u001b[0;34m:\u001b[0m\u001b[0;34m\u001b[0m\u001b[0m\n",
      "\u001b[0;32m/short/w35/saw562/conda/envs/swc-climatedata/lib/python3.5/site-packages/IPython/core/magics/execution.py\u001b[0m in \u001b[0;36mtime\u001b[0;34m(self, line, cell, local_ns)\u001b[0m\n\u001b[1;32m   1178\u001b[0m         \u001b[0;32melse\u001b[0m\u001b[0;34m:\u001b[0m\u001b[0;34m\u001b[0m\u001b[0m\n\u001b[1;32m   1179\u001b[0m             \u001b[0mst\u001b[0m \u001b[0;34m=\u001b[0m \u001b[0mclock2\u001b[0m\u001b[0;34m(\u001b[0m\u001b[0;34m)\u001b[0m\u001b[0;34m\u001b[0m\u001b[0m\n\u001b[0;32m-> 1180\u001b[0;31m             \u001b[0mexec\u001b[0m\u001b[0;34m(\u001b[0m\u001b[0mcode\u001b[0m\u001b[0;34m,\u001b[0m \u001b[0mglob\u001b[0m\u001b[0;34m,\u001b[0m \u001b[0mlocal_ns\u001b[0m\u001b[0;34m)\u001b[0m\u001b[0;34m\u001b[0m\u001b[0m\n\u001b[0m\u001b[1;32m   1181\u001b[0m             \u001b[0mend\u001b[0m \u001b[0;34m=\u001b[0m \u001b[0mclock2\u001b[0m\u001b[0;34m(\u001b[0m\u001b[0;34m)\u001b[0m\u001b[0;34m\u001b[0m\u001b[0m\n\u001b[1;32m   1182\u001b[0m             \u001b[0mout\u001b[0m \u001b[0;34m=\u001b[0m \u001b[0;32mNone\u001b[0m\u001b[0;34m\u001b[0m\u001b[0m\n",
      "\u001b[0;32m<timed exec>\u001b[0m in \u001b[0;36m<module>\u001b[0;34m()\u001b[0m\n",
      "\u001b[0;31mNameError\u001b[0m: name 'chunked' is not defined"
     ]
    }
   ],
   "source": [
    "%%time\n",
    "# Now how long does it take?\n",
    "\n",
    "magnitude = (chunked['u']**2 + chunked['v']**2)**0.5\n",
    "magnitude"
   ]
  },
  {
   "cell_type": "code",
   "execution_count": null,
   "metadata": {
    "collapsed": false
   },
   "outputs": [],
   "source": [
    "%matplotlib inline\n",
    "magnitude.isel(time=0, st_ocean=0).plot()"
   ]
  },
  {
   "cell_type": "code",
   "execution_count": null,
   "metadata": {
    "collapsed": true
   },
   "outputs": [],
   "source": []
  }
 ],
 "metadata": {
  "anaconda-cloud": {},
  "kernelspec": {
   "display_name": "Python [default]",
   "language": "python",
   "name": "python3"
  },
  "language_info": {
   "codemirror_mode": {
    "name": "ipython",
    "version": 3
   },
   "file_extension": ".py",
   "mimetype": "text/x-python",
   "name": "python",
   "nbconvert_exporter": "python",
   "pygments_lexer": "ipython3",
   "version": "3.5.2"
  }
 },
 "nbformat": 4,
 "nbformat_minor": 0
}
