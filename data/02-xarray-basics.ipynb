{
 "cells": [
  {
   "cell_type": "code",
   "execution_count": 1,
   "metadata": {
    "collapsed": true
   },
   "outputs": [],
   "source": [
    "import xarray"
   ]
  },
  {
   "cell_type": "markdown",
   "metadata": {},
   "source": [
    "You can use xarray to open a single file or OPENDAP link"
   ]
  },
  {
   "cell_type": "code",
   "execution_count": 5,
   "metadata": {
    "collapsed": false
   },
   "outputs": [
    {
     "data": {
      "text/plain": [
       "<xarray.Dataset>\n",
       "Dimensions:    (bnds: 2, lat: 144, lon: 192, plev: 8, time: 1826)\n",
       "Coordinates:\n",
       "  * time       (time) datetime64[ns] 1979-01-01T12:00:00 1979-01-02T12:00:00 ...\n",
       "  * plev       (plev) float64 1e+05 8.5e+04 7e+04 5e+04 2.5e+04 1e+04 5e+03 ...\n",
       "  * lat        (lat) float64 -89.38 -88.12 -86.88 -85.62 -84.38 -83.12 ...\n",
       "  * lon        (lon) float64 0.9375 2.812 4.688 6.562 8.438 10.31 12.19 ...\n",
       "  * bnds       (bnds) int64 0 1\n",
       "Data variables:\n",
       "    time_bnds  (time, bnds) float64 ...\n",
       "    plev_bnds  (plev, bnds) float64 ...\n",
       "    lat_bnds   (lat, bnds) float64 ...\n",
       "    lon_bnds   (lon, bnds) float64 ...\n",
       "    ua         (time, plev, lat, lon) float64 ...\n",
       "Attributes:\n",
       "    institution: CSIRO (Commonwealth Scientific and Industrial Research Organisation, Australia), and BOM (Bureau of Meteorology, Australia)\n",
       "    institute_id: CSIRO-BOM\n",
       "    experiment_id: amip\n",
       "    source: ACCESS1-0 2011. Atmosphere: AGCM v1.0 (N96 grid-point, 1.875 degrees EW x approx 1.25 degree NS, 38 levels); ocean: NOAA/GFDL MOM4p1 (nominal 1.0 degree EW x 1.0 degrees NS, tripolar north of 65N, equatorial refinement to 1/3 degree from 10S to 10 N, cosine dependent NS south of 25S, 50 levels); sea ice: CICE4.1 (nominal 1.0 degree EW x 1.0 degrees NS, tripolar north of 65N, equatorial refinement to 1/3 degree from 10S to 10 N, cosine dependent NS south of 25S); land: MOSES2 (1.875 degree EW ...\n",
       "    model_id: ACCESS1-0\n",
       "    forcing: GHG, Oz, SA, Sl, Vl, BC, OC, (GHG = CO2, N2O, CH4, CFC11, CFC12, CFC113, HCFC22, HFC125, HFC134a)\n",
       "    parent_experiment_id: N/A\n",
       "    parent_experiment_rip: r1i1p1\n",
       "    branch_time: 0.0\n",
       "    contact: The ACCESS wiki: http://wiki.csiro.au/confluence/display/ACCESS/Home. Contact Tony.Hirst@csiro.au regarding the ACCESS coupled climate model. Contact Peter.Uhe@csiro.au regarding ACCESS coupled climate model CMIP5 datasets.\n",
       "    history: CMIP5 compliant file produced from raw ACCESS model output using the ACCESS Post-Processor and CMOR2. 2012-05-23T13:18:15Z CMOR rewrote data to comply with CF standards and CMIP5 requirements.\n",
       "    references: See http://wiki.csiro.au/confluence/display/ACCESS/ACCESS+Publications\n",
       "    initialization_method: 1\n",
       "    physics_version: 1\n",
       "    tracking_id: f1881968-7f8c-489b-930e-131249530ccc\n",
       "    version_number: v20120115\n",
       "    product: output\n",
       "    experiment: AMIP\n",
       "    frequency: day\n",
       "    creation_date: 2012-05-23T13:18:15Z\n",
       "    Conventions: CF-1.4\n",
       "    project_id: CMIP5\n",
       "    table_id: Table day (01 February 2012) b6353e9919862612c81d65cae757c88a\n",
       "    title: ACCESS1-0 model output prepared for CMIP5 AMIP\n",
       "    parent_experiment: N/A\n",
       "    modeling_realm: atmos\n",
       "    realization: 1\n",
       "    cmor_version: 2.8.0\n",
       "    DODS_EXTRA.Unlimited_Dimension: time"
      ]
     },
     "execution_count": 5,
     "metadata": {},
     "output_type": "execute_result"
    }
   ],
   "source": [
    "url = 'http://dapds00.nci.org.au/thredds/dodsC/ua6/authoritative/CMIP5/CSIRO-BOM/ACCESS1-0/amip/day/atmos/day/r1i1p1/latest/ua/ua_day_ACCESS1-0_amip_r1i1p1_19790101-19831231.nc'\n",
    "data = xarray.open_dataset(url)\n",
    "data"
   ]
  },
  {
   "cell_type": "markdown",
   "metadata": {},
   "source": [
    "Or combine multiple files (say a time series)"
   ]
  },
  {
   "cell_type": "code",
   "execution_count": 4,
   "metadata": {
    "collapsed": false
   },
   "outputs": [
    {
     "data": {
      "text/plain": [
       "<xarray.Dataset>\n",
       "Dimensions:    (bnds: 2, lat: 144, lon: 192, plev: 8, time: 10958)\n",
       "Coordinates:\n",
       "  * plev       (plev) float64 1e+05 8.5e+04 7e+04 5e+04 2.5e+04 1e+04 5e+03 ...\n",
       "  * lat        (lat) float64 -89.38 -88.12 -86.88 -85.62 -84.38 -83.12 ...\n",
       "  * lon        (lon) float64 0.9375 2.812 4.688 6.562 8.438 10.31 12.19 ...\n",
       "  * bnds       (bnds) int64 0 1\n",
       "  * time       (time) datetime64[ns] 1979-01-01T12:00:00 1979-01-02T12:00:00 ...\n",
       "Data variables:\n",
       "    lon_bnds   (time, lon, bnds) float64 0.0 1.875 1.875 3.75 3.75 5.625 ...\n",
       "    lat_bnds   (time, lat, bnds) float64 -90.0 -88.75 -88.75 -87.5 -87.5 ...\n",
       "    plev_bnds  (time, plev, bnds) float64 1.075e+05 9.25e+04 9.25e+04 ...\n",
       "    ua         (time, plev, lat, lon) float64 nan nan nan nan nan nan nan ...\n",
       "    time_bnds  (time, bnds) float64 7.224e+05 7.224e+05 7.224e+05 7.225e+05 ..."
      ]
     },
     "execution_count": 4,
     "metadata": {},
     "output_type": "execute_result"
    }
   ],
   "source": [
    "from siphon.catalog import TDSCatalog\n",
    "url = 'http://dapds00.nci.org.au/thredds/catalog/ua6/authoritative/CMIP5/CSIRO-BOM/ACCESS1-0/amip/day/atmos/day/r1i1p1/latest/ua/catalog.xml'\n",
    "cat = TDSCatalog(url)\n",
    "xarray.open_mfdataset([x.access_urls['OPENDAP'] for x in cat.datasets.values()])"
   ]
  },
  {
   "cell_type": "markdown",
   "metadata": {},
   "source": [
    "Xarray doesn't load the whole file, instead it just reads the NetCDF metadata (If using OPENDAP it may take the server a little while to load the file though)\n",
    "\n",
    "Let's go back to the single-file dataset for now"
   ]
  },
  {
   "cell_type": "code",
   "execution_count": 7,
   "metadata": {
    "collapsed": true
   },
   "outputs": [],
   "source": [
    "data?"
   ]
  },
  {
   "cell_type": "markdown",
   "metadata": {},
   "source": [
    "Variables can be accessed through the `variables` attribute, or just by treating the dataset as a dict"
   ]
  },
  {
   "cell_type": "code",
   "execution_count": 10,
   "metadata": {
    "collapsed": false
   },
   "outputs": [
    {
     "data": {
      "text/plain": [
       "['time',\n",
       " 'time_bnds',\n",
       " 'plev',\n",
       " 'plev_bnds',\n",
       " 'lat',\n",
       " 'lat_bnds',\n",
       " 'lon',\n",
       " 'lon_bnds',\n",
       " 'ua',\n",
       " 'bnds']"
      ]
     },
     "execution_count": 10,
     "metadata": {},
     "output_type": "execute_result"
    }
   ],
   "source": [
    "list(data.variables.keys())"
   ]
  },
  {
   "cell_type": "code",
   "execution_count": 12,
   "metadata": {
    "collapsed": false
   },
   "outputs": [
    {
     "data": {
      "text/plain": [
       "<xarray.DataArray 'ua' (time: 1826, plev: 8, lat: 144, lon: 192)>\n",
       "[403881984 values with dtype=float64]\n",
       "Coordinates:\n",
       "  * time     (time) datetime64[ns] 1979-01-01T12:00:00 1979-01-02T12:00:00 ...\n",
       "  * plev     (plev) float64 1e+05 8.5e+04 7e+04 5e+04 2.5e+04 1e+04 5e+03 1e+03\n",
       "  * lat      (lat) float64 -89.38 -88.12 -86.88 -85.62 -84.38 -83.12 -81.88 ...\n",
       "  * lon      (lon) float64 0.9375 2.812 4.688 6.562 8.438 10.31 12.19 14.06 ...\n",
       "Attributes:\n",
       "    standard_name: eastward_wind\n",
       "    long_name: Eastward Wind\n",
       "    units: m s-1\n",
       "    cell_methods: time: mean\n",
       "    history: 2012-05-23T13:18:14Z altered by CMOR: replaced missing value flag (-1.07374e+09) with standard missing value (1e+20). 2012-05-23T13:18:15Z altered by CMOR: Inverted axis: plev.\n",
       "    associated_files: baseURL: http://cmip-pcmdi.llnl.gov/CMIP5/dataLocation gridspecFile: gridspec_atmos_fx_ACCESS1-0_amip_r0i0p0.nc"
      ]
     },
     "execution_count": 12,
     "metadata": {},
     "output_type": "execute_result"
    }
   ],
   "source": [
    "ua = data['ua']\n",
    "ua"
   ]
  },
  {
   "cell_type": "markdown",
   "metadata": {},
   "source": [
    "Co-ordinates are a property both of the whole file and an individual variable"
   ]
  },
  {
   "cell_type": "code",
   "execution_count": 13,
   "metadata": {
    "collapsed": false
   },
   "outputs": [
    {
     "data": {
      "text/plain": [
       "Coordinates:\n",
       "  * time     (time) datetime64[ns] 1979-01-01T12:00:00 1979-01-02T12:00:00 ...\n",
       "  * plev     (plev) float64 1e+05 8.5e+04 7e+04 5e+04 2.5e+04 1e+04 5e+03 1e+03\n",
       "  * lat      (lat) float64 -89.38 -88.12 -86.88 -85.62 -84.38 -83.12 -81.88 ...\n",
       "  * lon      (lon) float64 0.9375 2.812 4.688 6.562 8.438 10.31 12.19 14.06 ..."
      ]
     },
     "execution_count": 13,
     "metadata": {},
     "output_type": "execute_result"
    }
   ],
   "source": [
    "ua.coords"
   ]
  },
  {
   "cell_type": "markdown",
   "metadata": {},
   "source": [
    "You can treat a variable like a numpy array"
   ]
  },
  {
   "cell_type": "code",
   "execution_count": 14,
   "metadata": {
    "collapsed": false
   },
   "outputs": [
    {
     "data": {
      "text/plain": [
       "<xarray.DataArray 'ua' (lat: 2, lon: 2)>\n",
       "array([[ nan,  nan],\n",
       "       [ nan,  nan]])\n",
       "Coordinates:\n",
       "    time     datetime64[ns] 1979-01-01T12:00:00\n",
       "    plev     float64 1e+05\n",
       "  * lat      (lat) float64 -88.12 -86.88\n",
       "  * lon      (lon) float64 2.812 4.688\n",
       "Attributes:\n",
       "    standard_name: eastward_wind\n",
       "    long_name: Eastward Wind\n",
       "    units: m s-1\n",
       "    cell_methods: time: mean\n",
       "    history: 2012-05-23T13:18:14Z altered by CMOR: replaced missing value flag (-1.07374e+09) with standard missing value (1e+20). 2012-05-23T13:18:15Z altered by CMOR: Inverted axis: plev.\n",
       "    associated_files: baseURL: http://cmip-pcmdi.llnl.gov/CMIP5/dataLocation gridspecFile: gridspec_atmos_fx_ACCESS1-0_amip_r0i0p0.nc"
      ]
     },
     "execution_count": 14,
     "metadata": {},
     "output_type": "execute_result"
    }
   ],
   "source": [
    "ua[0,0,1:3,1:3]"
   ]
  },
  {
   "cell_type": "code",
   "execution_count": 15,
   "metadata": {
    "collapsed": false
   },
   "outputs": [
    {
     "data": {
      "text/plain": [
       "<xarray.DataArray 'ua' ()>\n",
       "array(1.0716806183287637)\n",
       "Coordinates:\n",
       "    time     datetime64[ns] 1979-01-02T12:00:00\n",
       "    plev     float64 8.5e+04"
      ]
     },
     "execution_count": 15,
     "metadata": {},
     "output_type": "execute_result"
    }
   ],
   "source": [
    "ua[1,1,:,:].mean()"
   ]
  },
  {
   "cell_type": "markdown",
   "metadata": {},
   "source": [
    "You can also see metadata at file, variable or co-ordinate level"
   ]
  },
  {
   "cell_type": "code",
   "execution_count": 18,
   "metadata": {
    "collapsed": false
   },
   "outputs": [
    {
     "data": {
      "text/plain": [
       "OrderedDict([('institution',\n",
       "              'CSIRO (Commonwealth Scientific and Industrial Research Organisation, Australia), and BOM (Bureau of Meteorology, Australia)'),\n",
       "             ('institute_id', 'CSIRO-BOM'),\n",
       "             ('experiment_id', 'amip'),\n",
       "             ('source',\n",
       "              'ACCESS1-0 2011. Atmosphere: AGCM v1.0 (N96 grid-point, 1.875 degrees EW x approx 1.25 degree NS, 38 levels); ocean: NOAA/GFDL MOM4p1 (nominal 1.0 degree EW x 1.0 degrees NS, tripolar north of 65N, equatorial refinement to 1/3 degree from 10S to 10 N, cosine dependent NS south of 25S, 50 levels); sea ice: CICE4.1 (nominal 1.0 degree EW x 1.0 degrees NS, tripolar north of 65N, equatorial refinement to 1/3 degree from 10S to 10 N, cosine dependent NS south of 25S); land: MOSES2 (1.875 degree EW x 1.25 degree NS, 4 levels'),\n",
       "             ('model_id', 'ACCESS1-0'),\n",
       "             ('forcing',\n",
       "              'GHG, Oz, SA, Sl, Vl, BC, OC, (GHG = CO2, N2O, CH4, CFC11, CFC12, CFC113, HCFC22, HFC125, HFC134a)'),\n",
       "             ('parent_experiment_id', 'N/A'),\n",
       "             ('parent_experiment_rip', 'r1i1p1'),\n",
       "             ('branch_time', 0.0),\n",
       "             ('contact',\n",
       "              'The ACCESS wiki: http://wiki.csiro.au/confluence/display/ACCESS/Home. Contact Tony.Hirst@csiro.au regarding the ACCESS coupled climate model. Contact Peter.Uhe@csiro.au regarding ACCESS coupled climate model CMIP5 datasets.'),\n",
       "             ('history',\n",
       "              'CMIP5 compliant file produced from raw ACCESS model output using the ACCESS Post-Processor and CMOR2. 2012-05-23T13:18:15Z CMOR rewrote data to comply with CF standards and CMIP5 requirements.'),\n",
       "             ('references',\n",
       "              'See http://wiki.csiro.au/confluence/display/ACCESS/ACCESS+Publications'),\n",
       "             ('initialization_method', 1),\n",
       "             ('physics_version', 1),\n",
       "             ('tracking_id', 'f1881968-7f8c-489b-930e-131249530ccc'),\n",
       "             ('version_number', 'v20120115'),\n",
       "             ('product', 'output'),\n",
       "             ('experiment', 'AMIP'),\n",
       "             ('frequency', 'day'),\n",
       "             ('creation_date', '2012-05-23T13:18:15Z'),\n",
       "             ('Conventions', 'CF-1.4'),\n",
       "             ('project_id', 'CMIP5'),\n",
       "             ('table_id',\n",
       "              'Table day (01 February 2012) b6353e9919862612c81d65cae757c88a'),\n",
       "             ('title', 'ACCESS1-0 model output prepared for CMIP5 AMIP'),\n",
       "             ('parent_experiment', 'N/A'),\n",
       "             ('modeling_realm', 'atmos'),\n",
       "             ('realization', 1),\n",
       "             ('cmor_version', '2.8.0'),\n",
       "             ('DODS_EXTRA.Unlimited_Dimension', 'time')])"
      ]
     },
     "execution_count": 18,
     "metadata": {},
     "output_type": "execute_result"
    }
   ],
   "source": [
    "data.attrs"
   ]
  },
  {
   "cell_type": "code",
   "execution_count": 19,
   "metadata": {
    "collapsed": false
   },
   "outputs": [
    {
     "data": {
      "text/plain": [
       "OrderedDict([('standard_name', 'eastward_wind'),\n",
       "             ('long_name', 'Eastward Wind'),\n",
       "             ('units', 'm s-1'),\n",
       "             ('cell_methods', 'time: mean'),\n",
       "             ('history',\n",
       "              '2012-05-23T13:18:14Z altered by CMOR: replaced missing value flag (-1.07374e+09) with standard missing value (1e+20). 2012-05-23T13:18:15Z altered by CMOR: Inverted axis: plev.'),\n",
       "             ('associated_files',\n",
       "              'baseURL: http://cmip-pcmdi.llnl.gov/CMIP5/dataLocation gridspecFile: gridspec_atmos_fx_ACCESS1-0_amip_r0i0p0.nc')])"
      ]
     },
     "execution_count": 19,
     "metadata": {},
     "output_type": "execute_result"
    }
   ],
   "source": [
    "ua.attrs"
   ]
  },
  {
   "cell_type": "markdown",
   "metadata": {},
   "source": [
    "You can use the `plot()` function on xarray data to create a quick plot"
   ]
  },
  {
   "cell_type": "code",
   "execution_count": 23,
   "metadata": {
    "collapsed": false
   },
   "outputs": [
    {
     "data": {
      "text/plain": [
       "<matplotlib.collections.QuadMesh at 0x7f8fa1259f60>"
      ]
     },
     "execution_count": 23,
     "metadata": {},
     "output_type": "execute_result"
    },
    {
     "data": {
      "image/png": "[encoded data removed]",
      "text/plain": [
       "<matplotlib.figure.Figure at 0x7f8fa1289080>"
      ]
     },
     "metadata": {},
     "output_type": "display_data"
    }
   ],
   "source": [
    "%matplotlib inline\n",
    "ua[0,0,:,:].plot()"
   ]
  },
  {
   "cell_type": "code",
   "execution_count": null,
   "metadata": {
    "collapsed": true
   },
   "outputs": [],
   "source": []
  }
 ],
 "metadata": {
  "anaconda-cloud": {},
  "kernelspec": {
   "display_name": "Python [conda env:swc-climatedata]",
   "language": "python",
   "name": "conda-env-swc-climatedata-py"
  },
  "language_info": {
   "codemirror_mode": {
    "name": "ipython",
    "version": 3
   },
   "file_extension": ".py",
   "mimetype": "text/x-python",
   "name": "python",
   "nbconvert_exporter": "python",
   "pygments_lexer": "ipython3",
   "version": "3.5.2"
  }
 },
 "nbformat": 4,
 "nbformat_minor": 1
}
