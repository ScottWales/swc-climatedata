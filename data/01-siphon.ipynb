{
 "cells": [
  {
   "cell_type": "code",
   "execution_count": 2,
   "metadata": {
    "collapsed": true
   },
   "outputs": [],
   "source": [
    "from siphon.catalog import TDSCatalog"
   ]
  },
  {
   "cell_type": "code",
   "execution_count": 3,
   "metadata": {
    "collapsed": false
   },
   "outputs": [
    {
     "name": "stderr",
     "output_type": "stream",
     "text": [
      "/opt/apps/anaconda2/envs/swc-climatedata/lib/python3.5/site-packages/siphon/catalog.py:72: UserWarning: URL http://dapds00.nci.org.au/thredds/catalog.html returned HTML. Changing to: http://dapds00.nci.org.au/thredds/catalog.xml\n",
      "  new_url))\n"
     ]
    }
   ],
   "source": [
    "cat = TDSCatalog('http://dapds00.nci.org.au/thredds/catalog.html')"
   ]
  },
  {
   "cell_type": "markdown",
   "metadata": {},
   "source": [
    "Use `.xml` instead of `.html`"
   ]
  },
  {
   "cell_type": "code",
   "execution_count": 4,
   "metadata": {
    "collapsed": true
   },
   "outputs": [],
   "source": [
    "cat = TDSCatalog('http://dapds00.nci.org.au/thredds/catalog.xml')"
   ]
  },
  {
   "cell_type": "code",
   "execution_count": 5,
   "metadata": {
    "collapsed": true
   },
   "outputs": [],
   "source": [
    "cat?"
   ]
  },
  {
   "cell_type": "code",
   "execution_count": 6,
   "metadata": {
    "collapsed": false
   },
   "outputs": [
    {
     "data": {
      "text/plain": [
       "OrderedDict([('License and README files',\n",
       "              <siphon.catalog.CatalogRef at 0x7fdf9599f710>),\n",
       "             ('3D Geological models of Australia',\n",
       "              <siphon.catalog.CatalogRef at 0x7fdf95a0af60>),\n",
       "             ('ANU Water and Landscape Dynamics',\n",
       "              <siphon.catalog.CatalogRef at 0x7fdf95a0af28>),\n",
       "             ('ASTER maps of Australia',\n",
       "              <siphon.catalog.CatalogRef at 0x7fdf959b7da0>),\n",
       "             ('Australian Bathymetry Reference Data',\n",
       "              <siphon.catalog.CatalogRef at 0x7fdf959b7e10>),\n",
       "             ('Australian Marine Video and Imagery Data',\n",
       "              <siphon.catalog.CatalogRef at 0x7fdf959b7e48>),\n",
       "             ('Australian Natural Hazards Data archive',\n",
       "              <siphon.catalog.CatalogRef at 0x7fdf959b7e80>),\n",
       "             ('Australian Regional Copernicus Data Hub - Sentinel-1,2,3',\n",
       "              <siphon.catalog.CatalogRef at 0x7fdf959b7eb8>),\n",
       "             ('WITHDRAWN - Bureau of Meteorology ACCESS Data - WITHDRAWN',\n",
       "              <siphon.catalog.CatalogRef at 0x7fdf959b7ef0>),\n",
       "             ('Bureau of Meteorology - CAWCR - POAMA Data Catalog using a Legacy Structure',\n",
       "              <siphon.catalog.CatalogRef at 0x7fdf959b7f28>),\n",
       "             ('Bureau of Meteorology Observations Data',\n",
       "              <siphon.catalog.CatalogRef at 0x7fdf959b7f60>),\n",
       "             ('Bureau of Meteorology Ocean-Marine Reference Data',\n",
       "              <siphon.catalog.CatalogRef at 0x7fdf9599f400>),\n",
       "             ('CMIP5 Australian Data - CSIRO-BOM and CSIRO-QCCCE',\n",
       "              <siphon.catalog.CatalogRef at 0x7fdf959b7f98>),\n",
       "             ('CMIP5/NRM', <siphon.catalog.CatalogRef at 0x7fdf959b7fd0>),\n",
       "             ('eMAST TERN', <siphon.catalog.CatalogRef at 0x7fdf959ba048>),\n",
       "             ('eReefs GBR model data',\n",
       "              <siphon.catalog.CatalogRef at 0x7fdf959ba080>),\n",
       "             ('GA Earth Observations - derived',\n",
       "              <siphon.catalog.CatalogRef at 0x7fdf959ba0f0>),\n",
       "             ('Geodesy GNSS data archive',\n",
       "              <siphon.catalog.CatalogRef at 0x7fdf959ba128>),\n",
       "             ('Geophysics reference data',\n",
       "              <siphon.catalog.CatalogRef at 0x7fdf959ba160>),\n",
       "             ('GSWA Geophysics Data',\n",
       "              <siphon.catalog.CatalogRef at 0x7fdf959ba198>),\n",
       "             ('HAIC-HIWC Project 2014',\n",
       "              <siphon.catalog.CatalogRef at 0x7fdf959ba1d0>),\n",
       "             ('IMOS and TERN-AusCover Satellite Products',\n",
       "              <siphon.catalog.CatalogRef at 0x7fdf959ba208>),\n",
       "             ('LANDSAT data', <siphon.catalog.CatalogRef at 0x7fdf959ba240>),\n",
       "             ('National CT-lab tomography data',\n",
       "              <siphon.catalog.CatalogRef at 0x7fdf959ba278>),\n",
       "             ('National Remote Sensing Processing Facility - metadata',\n",
       "              <siphon.catalog.CatalogRef at 0x7fdf959ba2b0>),\n",
       "             ('OFAM - Ocean Forecasting Australia Model',\n",
       "              <siphon.catalog.CatalogRef at 0x7fdf959ba2e8>),\n",
       "             ('NCI test', <siphon.catalog.CatalogRef at 0x7fdf959ba320>)])"
      ]
     },
     "execution_count": 6,
     "metadata": {},
     "output_type": "execute_result"
    }
   ],
   "source": [
    "cat.catalog_refs"
   ]
  },
  {
   "cell_type": "code",
   "execution_count": 8,
   "metadata": {
    "collapsed": false
   },
   "outputs": [],
   "source": [
    "ref = cat.catalog_refs['Bureau of Meteorology Observations Data']"
   ]
  },
  {
   "cell_type": "markdown",
   "metadata": {},
   "source": [
    "What can we do with a reference?"
   ]
  },
  {
   "cell_type": "code",
   "execution_count": 14,
   "metadata": {
    "collapsed": true
   },
   "outputs": [],
   "source": [
    "ref??"
   ]
  },
  {
   "cell_type": "markdown",
   "metadata": {},
   "source": [
    "Follow a reference"
   ]
  },
  {
   "cell_type": "code",
   "execution_count": 11,
   "metadata": {
    "collapsed": true
   },
   "outputs": [],
   "source": [
    "obs = ref.follow()"
   ]
  },
  {
   "cell_type": "code",
   "execution_count": 12,
   "metadata": {
    "collapsed": false
   },
   "outputs": [
    {
     "data": {
      "text/plain": [
       "'http://dapds00.nci.org.au/thredds/catalogs/rr5/catalog.xml'"
      ]
     },
     "execution_count": 12,
     "metadata": {},
     "output_type": "execute_result"
    }
   ],
   "source": [
    "obs.catalog_url"
   ]
  },
  {
   "cell_type": "markdown",
   "metadata": {},
   "source": [
    "The catalog is a tree, like directories in a file system. Eventually you'll reach files"
   ]
  },
  {
   "cell_type": "code",
   "execution_count": 15,
   "metadata": {
    "collapsed": true
   },
   "outputs": [],
   "source": [
    "url = 'http://dapds00.nci.org.au/thredds/catalog/ua6/authoritative/CMIP5/CSIRO-BOM/ACCESS1-0/amip/day/atmos/day/r1i1p1/latest/ua/catalog.xml'\n",
    "cat = TDSCatalog(url)"
   ]
  },
  {
   "cell_type": "markdown",
   "metadata": {},
   "source": [
    "Files (rather than directories) are listed under `datasets`"
   ]
  },
  {
   "cell_type": "code",
   "execution_count": 18,
   "metadata": {
    "collapsed": false
   },
   "outputs": [
    {
     "data": {
      "text/plain": [
       "OrderedDict([('ua_day_ACCESS1-0_amip_r1i1p1_19790101-19831231.nc',\n",
       "              <siphon.catalog.Dataset at 0x7fdf959d00f0>),\n",
       "             ('ua_day_ACCESS1-0_amip_r1i1p1_19840101-19881231.nc',\n",
       "              <siphon.catalog.Dataset at 0x7fdf959d0128>),\n",
       "             ('ua_day_ACCESS1-0_amip_r1i1p1_19890101-19931231.nc',\n",
       "              <siphon.catalog.Dataset at 0x7fdf959d0048>),\n",
       "             ('ua_day_ACCESS1-0_amip_r1i1p1_19940101-19981231.nc',\n",
       "              <siphon.catalog.Dataset at 0x7fdf959d0438>),\n",
       "             ('ua_day_ACCESS1-0_amip_r1i1p1_19990101-20031231.nc',\n",
       "              <siphon.catalog.Dataset at 0x7fdf959d03c8>),\n",
       "             ('ua_day_ACCESS1-0_amip_r1i1p1_20040101-20081231.nc',\n",
       "              <siphon.catalog.Dataset at 0x7fdf959d04e0>)])"
      ]
     },
     "execution_count": 18,
     "metadata": {},
     "output_type": "execute_result"
    }
   ],
   "source": [
    "cat.datasets"
   ]
  },
  {
   "cell_type": "code",
   "execution_count": 19,
   "metadata": {
    "collapsed": true
   },
   "outputs": [],
   "source": [
    "file = cat.datasets['ua_day_ACCESS1-0_amip_r1i1p1_19790101-19831231.nc']"
   ]
  },
  {
   "cell_type": "code",
   "execution_count": 20,
   "metadata": {
    "collapsed": true
   },
   "outputs": [],
   "source": [
    "file??"
   ]
  },
  {
   "cell_type": "code",
   "execution_count": 21,
   "metadata": {
    "collapsed": false
   },
   "outputs": [
    {
     "data": {
      "text/plain": [
       "{'HTTPServer': 'http://dapds00.nci.org.au/thredds/fileServer/ua6/authoritative/CMIP5/CSIRO-BOM/ACCESS1-0/amip/day/atmos/day/r1i1p1/latest/ua/ua_day_ACCESS1-0_amip_r1i1p1_19790101-19831231.nc',\n",
       " 'ISO': 'http://dapds00.nci.org.au/thredds/iso/ua6/authoritative/CMIP5/CSIRO-BOM/ACCESS1-0/amip/day/atmos/day/r1i1p1/latest/ua/ua_day_ACCESS1-0_amip_r1i1p1_19790101-19831231.nc',\n",
       " 'NCML': 'http://dapds00.nci.org.au/thredds/ncml/ua6/authoritative/CMIP5/CSIRO-BOM/ACCESS1-0/amip/day/atmos/day/r1i1p1/latest/ua/ua_day_ACCESS1-0_amip_r1i1p1_19790101-19831231.nc',\n",
       " 'NetcdfSubset': 'http://dapds00.nci.org.au/thredds/ncss/grid/ua6/authoritative/CMIP5/CSIRO-BOM/ACCESS1-0/amip/day/atmos/day/r1i1p1/latest/ua/ua_day_ACCESS1-0_amip_r1i1p1_19790101-19831231.nc',\n",
       " 'OPENDAP': 'http://dapds00.nci.org.au/thredds/dodsC/ua6/authoritative/CMIP5/CSIRO-BOM/ACCESS1-0/amip/day/atmos/day/r1i1p1/latest/ua/ua_day_ACCESS1-0_amip_r1i1p1_19790101-19831231.nc',\n",
       " 'UDDC': 'http://dapds00.nci.org.au/thredds/uddc/ua6/authoritative/CMIP5/CSIRO-BOM/ACCESS1-0/amip/day/atmos/day/r1i1p1/latest/ua/ua_day_ACCESS1-0_amip_r1i1p1_19790101-19831231.nc',\n",
       " 'WCS': 'http://dapds00.nci.org.au/thredds/wcs/ua6/authoritative/CMIP5/CSIRO-BOM/ACCESS1-0/amip/day/atmos/day/r1i1p1/latest/ua/ua_day_ACCESS1-0_amip_r1i1p1_19790101-19831231.nc',\n",
       " 'WMS': 'http://dapds00.nci.org.au/thredds/wms/ua6/authoritative/CMIP5/CSIRO-BOM/ACCESS1-0/amip/day/atmos/day/r1i1p1/latest/ua/ua_day_ACCESS1-0_amip_r1i1p1_19790101-19831231.nc'}"
      ]
     },
     "execution_count": 21,
     "metadata": {},
     "output_type": "execute_result"
    }
   ],
   "source": [
    "file.access_urls"
   ]
  },
  {
   "cell_type": "markdown",
   "metadata": {},
   "source": [
    "You can use generators to get e.g. all the opendap links in a directory"
   ]
  },
  {
   "cell_type": "code",
   "execution_count": 25,
   "metadata": {
    "collapsed": false
   },
   "outputs": [
    {
     "data": {
      "text/plain": [
       "['http://dapds00.nci.org.au/thredds/dodsC/ua6/authoritative/CMIP5/CSIRO-BOM/ACCESS1-0/amip/day/atmos/day/r1i1p1/latest/ua/ua_day_ACCESS1-0_amip_r1i1p1_19790101-19831231.nc',\n",
       " 'http://dapds00.nci.org.au/thredds/dodsC/ua6/authoritative/CMIP5/CSIRO-BOM/ACCESS1-0/amip/day/atmos/day/r1i1p1/latest/ua/ua_day_ACCESS1-0_amip_r1i1p1_19840101-19881231.nc',\n",
       " 'http://dapds00.nci.org.au/thredds/dodsC/ua6/authoritative/CMIP5/CSIRO-BOM/ACCESS1-0/amip/day/atmos/day/r1i1p1/latest/ua/ua_day_ACCESS1-0_amip_r1i1p1_19890101-19931231.nc',\n",
       " 'http://dapds00.nci.org.au/thredds/dodsC/ua6/authoritative/CMIP5/CSIRO-BOM/ACCESS1-0/amip/day/atmos/day/r1i1p1/latest/ua/ua_day_ACCESS1-0_amip_r1i1p1_19940101-19981231.nc',\n",
       " 'http://dapds00.nci.org.au/thredds/dodsC/ua6/authoritative/CMIP5/CSIRO-BOM/ACCESS1-0/amip/day/atmos/day/r1i1p1/latest/ua/ua_day_ACCESS1-0_amip_r1i1p1_19990101-20031231.nc',\n",
       " 'http://dapds00.nci.org.au/thredds/dodsC/ua6/authoritative/CMIP5/CSIRO-BOM/ACCESS1-0/amip/day/atmos/day/r1i1p1/latest/ua/ua_day_ACCESS1-0_amip_r1i1p1_20040101-20081231.nc']"
      ]
     },
     "execution_count": 25,
     "metadata": {},
     "output_type": "execute_result"
    }
   ],
   "source": [
    "opendaps = [x.access_urls['OPENDAP'] for x in cat.datasets.values()]\n",
    "opendaps"
   ]
  },
  {
   "cell_type": "code",
   "execution_count": null,
   "metadata": {
    "collapsed": true
   },
   "outputs": [],
   "source": []
  }
 ],
 "metadata": {
  "anaconda-cloud": {},
  "kernelspec": {
   "display_name": "Python [conda env:swc-climatedata]",
   "language": "python",
   "name": "conda-env-swc-climatedata-py"
  },
  "language_info": {
   "codemirror_mode": {
    "name": "ipython",
    "version": 3
   },
   "file_extension": ".py",
   "mimetype": "text/x-python",
   "name": "python",
   "nbconvert_exporter": "python",
   "pygments_lexer": "ipython3",
   "version": "3.5.2"
  }
 },
 "nbformat": 4,
 "nbformat_minor": 1
}
